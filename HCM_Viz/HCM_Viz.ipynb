{
 "cells": [
  {
   "cell_type": "code",
   "execution_count": 6,
   "id": "dc34668e-ad54-41ff-adf2-984cf0663516",
   "metadata": {},
   "outputs": [],
   "source": [
    "import pickle as pkl\n",
    "import os\n",
    "import sys\n",
    "import joblib\n",
    "import numpy as np"
   ]
  },
  {
   "cell_type": "code",
   "execution_count": 7,
   "id": "acf17f72-5bd3-4654-9a66-05870aea597b",
   "metadata": {},
   "outputs": [],
   "source": [
    "def load_pickle_file(file_path):\n",
    "    \"\"\"\n",
    "    Loads a pickle file from the given file path into an object.\n",
    "\n",
    "    :param file_path: Path to the pickle file\n",
    "    :return: The object loaded from the pickle file\n",
    "    \"\"\"\n",
    "    try:\n",
    "        with open(file_path, 'rb') as file:\n",
    "            obj = pkl.load(file)\n",
    "        return obj\n",
    "    except (FileNotFoundError, pkl.PickleError) as e:\n",
    "        print(f\"An error occurred: {e}\")\n",
    "        return None\n",
    "\n",
    "def load_joblib_pickle(file_path):\n",
    "    \"\"\"\n",
    "    Loads a pickle file using joblib from the given file path.\n",
    "\n",
    "    :param file_path: Path to the pickle file\n",
    "    :return: The object loaded from the pickle file\n",
    "    \"\"\"\n",
    "    try:\n",
    "        obj = joblib.load(file_path)\n",
    "        return obj\n",
    "    except (FileNotFoundError, joblib.externals.loky.process_executor.TerminatedWorkerError, Exception) as e:\n",
    "        print(f\"An error occurred: {e}\")\n",
    "        return None"
   ]
  },
  {
   "cell_type": "code",
   "execution_count": 8,
   "id": "1eb860fd-1aba-4594-9e43-01bc9f1f58f4",
   "metadata": {},
   "outputs": [],
   "source": [
    "from PIL import Image, ImageDraw\n",
    "import numpy as np\n",
    "\n",
    "def annotate_circles(image_path, points, output_path, radius=2, color=\"red\", thickness=2):\n",
    "    # Open the image\n",
    "    image = Image.open(image_path)\n",
    "    draw = ImageDraw.Draw(image)\n",
    "\n",
    "    # Draw circles at each point\n",
    "    for (x, y) in points:\n",
    "        top_left = (x - radius, y - radius)\n",
    "        bottom_right = (x + radius, y + radius)\n",
    "        for i in range(thickness):  # Draw concentric circles for thickness\n",
    "            draw.ellipse([top_left[0] - i, top_left[1] - i, bottom_right[0] + i, bottom_right[1] + i], outline=color)\n",
    "\n",
    "    # Save the annotated image\n",
    "    image.save(output_path)\n",
    "    print(f\"Annotated image saved to: {output_path}\")"
   ]
  },
  {
   "cell_type": "code",
   "execution_count": 9,
   "id": "f5179c5b-7c03-44bf-b0e7-f56785dbf723",
   "metadata": {},
   "outputs": [
    {
     "name": "stdout",
     "output_type": "stream",
     "text": [
      "global_orient\n",
      "pose\n",
      "betas\n",
      "global_trans\n",
      "cam_eye\n",
      "scale\n",
      "img_fname\n",
      "view_matrix\n",
      "cam_look_at\n",
      "cam_up\n",
      "cam_int\n",
      "gender\n",
      "gt_joints\n",
      "joints_2d\n",
      "verts\n",
      "joints_3d\n",
      "tensor([894.9518, 894.9518, 894.9518, 894.9518, 894.9518, 894.9518, 894.9518,\n",
      "        894.9518, 894.9518, 894.9518, 894.9518, 894.9518, 894.9518, 894.9518,\n",
      "        894.9518, 894.9518, 894.9518, 894.9518, 894.9518, 894.9518, 894.9518,\n",
      "        894.9518, 894.9518, 894.9518, 894.9518, 894.9518, 894.9518, 894.9518,\n",
      "        894.9518, 894.9518, 894.9518, 894.9518, 894.9518, 894.9518, 894.9518,\n",
      "        894.9518, 894.9518, 894.9518, 894.9518, 894.9518, 894.9518, 894.9518,\n",
      "        894.9518, 894.9518, 894.9518, 894.9518, 894.9518, 894.9518, 894.9518,\n",
      "        894.9518, 894.9518, 894.9518, 894.9518, 894.9518, 894.9518, 894.9518,\n",
      "        894.9518, 894.9518, 894.9518, 894.9518, 894.9518, 894.9518, 894.9518,\n",
      "        894.9518, 894.9518, 894.9518, 894.9518, 894.9518, 894.9518, 894.9518,\n",
      "        894.9518, 894.9518, 894.9518, 894.9518, 894.9518, 894.9518, 894.9518,\n",
      "        894.9518, 894.9518, 894.9518, 894.9518, 894.9518, 894.9518, 894.9518,\n",
      "        894.9518, 894.9518, 894.9518, 894.9518, 894.9518, 894.9518, 894.9518,\n",
      "        894.9518, 894.9518, 894.9518, 894.9518, 894.9518, 894.9518, 894.9518,\n",
      "        894.9518, 894.9518, 894.9518, 894.9518, 894.9518, 894.9518, 894.9518,\n",
      "        894.9518, 894.9518, 894.9518, 894.9518, 894.9518, 894.9518, 894.9518,\n",
      "        894.9518, 894.9518, 894.9518, 894.9518, 894.9518, 894.9518, 894.9518,\n",
      "        894.9518, 894.9518, 894.9518, 894.9518, 894.9518, 894.9518, 894.9518,\n",
      "        894.9518, 894.9518, 894.9518, 894.9518, 894.9518, 894.9518, 894.9518,\n",
      "        894.9518, 894.9518, 894.9518, 894.9518, 894.9518, 894.9518, 894.9518,\n",
      "        894.9518, 894.9518, 894.9518, 894.9518, 894.9518, 894.9518, 894.9518,\n",
      "        894.9518, 894.9518, 894.9518, 894.9518, 894.9518, 894.9518, 894.9518,\n",
      "        894.9518, 894.9518, 894.9518, 894.9518, 894.9518, 894.9518, 894.9518,\n",
      "        894.9518, 894.9518, 894.9518, 894.9518, 894.9518, 894.9518, 894.9518,\n",
      "        894.9518, 894.9518, 894.9518, 894.9518, 894.9518, 894.9518, 894.9518,\n",
      "        894.9518, 894.9518, 894.9518, 894.9518, 894.9518, 894.9518, 894.9518,\n",
      "        894.9518, 894.9518, 894.9518, 894.9518, 894.9518, 894.9518, 894.9518,\n",
      "        894.9518, 894.9518, 894.9518, 894.9518, 894.9518, 894.9518, 894.9518,\n",
      "        894.9518, 894.9518, 894.9518, 894.9518, 894.9518, 894.9518, 894.9518,\n",
      "        894.9518, 894.9518, 894.9518, 894.9518, 894.9518, 894.9518, 894.9518,\n",
      "        894.9518, 894.9518, 894.9518, 894.9518, 894.9518, 894.9518, 894.9518,\n",
      "        894.9518, 894.9518, 894.9518, 894.9518, 894.9518, 894.9518, 894.9518,\n",
      "        894.9518, 894.9518, 894.9518, 894.9518, 894.9518, 894.9518, 894.9518])\n"
     ]
    }
   ],
   "source": [
    "file_annots = load_joblib_pickle(\"../HCM_Dataset/HCM_annots/00003.pkl\")[0]\n",
    "gt_joints = file_annots[\"gt_joints\"].numpy()\n",
    "for key, _ in file_annots.items():\n",
    "    print(key)\n",
    "\n",
    "print(file_annots[\"scale\"])\n"
   ]
  },
  {
   "cell_type": "code",
   "execution_count": 10,
   "id": "412b0a41",
   "metadata": {},
   "outputs": [
    {
     "name": "stdout",
     "output_type": "stream",
     "text": [
      "tensor([[934.0728,   0.0000, 640.0000],\n",
      "        [  0.0000, 934.0728, 360.0000],\n",
      "        [  0.0000,   0.0000,   1.0000]])\n",
      "tensor([[ 2.2686e-01, -2.6402e-01,  9.3746e-01,  0.0000e+00],\n",
      "        [-1.3698e-08,  9.6256e-01,  2.7108e-01,  0.0000e+00],\n",
      "        [-9.7393e-01, -6.1497e-02,  2.1836e-01, -0.0000e+00],\n",
      "        [-7.1088e+03,  2.8119e+03, -1.1035e+04,  1.0000e+00]],\n",
      "       dtype=torch.float64)\n"
     ]
    }
   ],
   "source": [
    "print(file_annots[\"cam_int\"][0])\n",
    "print(file_annots[\"view_matrix\"][20])"
   ]
  },
  {
   "cell_type": "code",
   "execution_count": 11,
   "id": "fe10e985",
   "metadata": {},
   "outputs": [
    {
     "name": "stdout",
     "output_type": "stream",
     "text": [
      "[609. 347.   1.]\n",
      "[608. 333.   1.]\n",
      "[618. 323.   1.]\n",
      "[628. 313.   1.]\n",
      "[637. 302.   1.]\n",
      "[644. 297.   1.]\n",
      "[647. 284.   1.]\n",
      "[647. 297.   1.]\n",
      "[652. 302.   1.]\n",
      "[652. 291.   1.]\n"
     ]
    }
   ],
   "source": [
    "t=0\n",
    "\n",
    "for joint_i in range(10):\n",
    "  np.set_printoptions(suppress=True)\n",
    "  cam_int = (file_annots[\"cam_int\"][t]).numpy()\n",
    "  view_matrix = (file_annots[\"view_matrix\"][t]).numpy().T\n",
    "  joint = gt_joints[t][joint_i]\n",
    "  hom_joint = np.hstack((joint, np.array([1])))\n",
    "  cam_joint = np.matmul(view_matrix, hom_joint)\n",
    "  cam_joint = cam_joint / cam_joint[3]\n",
    "  cam_joint = cam_joint[:3]\n",
    "  screen_joint = np.matmul(cam_int, cam_joint)\n",
    "  screen_joint = screen_joint / screen_joint[2]\n",
    "  print(np.ndarray.round(screen_joint, decimals=0))"
   ]
  },
  {
   "cell_type": "code",
   "execution_count": 12,
   "id": "4d6c79de-6643-432c-bffd-a133f8277374",
   "metadata": {},
   "outputs": [
    {
     "name": "stdout",
     "output_type": "stream",
     "text": [
      "[[671.43626062 346.70230515]\n",
      " [672.15212717 332.80772555]\n",
      " [661.87810815 323.35900122]\n",
      " [652.49871241 313.00063468]\n",
      " [643.37599345 302.38749705]\n",
      " [635.97531961 296.923529  ]\n",
      " [633.42168808 284.30609037]\n",
      " [633.23764875 296.7219827 ]\n",
      " [628.12630148 302.42070165]\n",
      " [628.19476489 291.2826805 ]\n",
      " [627.03721042 291.53951345]\n",
      " [627.48023389 290.09224103]\n",
      " [626.28726509 290.35667983]\n",
      " [627.47428454 298.92509963]\n",
      " [627.00945063 298.05699508]\n",
      " [628.19476489 291.2826805 ]\n",
      " [626.57323735 291.24601117]\n",
      " [627.48023389 290.09224103]\n",
      " [625.82640901 290.06471835]\n",
      " [625.32923448 290.03153857]\n",
      " [624.91045112 289.16675847]\n",
      " [650.28539028 307.69778507]\n",
      " [650.81552421 309.42711342]\n",
      " [665.00988537 327.23718298]\n",
      " [650.27731106 348.48204797]\n",
      " [647.17274588 348.84934097]\n",
      " [644.33152585 351.0222173 ]\n",
      " [642.30135429 352.99923764]\n",
      " [641.53565269 355.05747038]\n",
      " [641.87964945 352.58230971]\n",
      " [641.23655076 355.08334616]\n",
      " [642.47545807 355.88956584]\n",
      " [644.17359548 355.313578  ]\n",
      " [643.2666202  353.98606406]\n",
      " [642.54215675 356.78183033]\n",
      " [643.87717835 357.6484412 ]\n",
      " [645.6552888  357.04279628]\n",
      " [644.7964063  355.56541791]\n",
      " [644.13095104 358.11460729]\n",
      " [645.37139805 358.91901176]\n",
      " [647.04506838 358.34710722]\n",
      " [646.6134183  356.39390391]\n",
      " [646.07069466 358.4574701 ]\n",
      " [647.06473761 359.10391626]\n",
      " [648.43863647 358.63397748]\n",
      " [657.66222734 337.83276674]\n",
      " [657.86194875 318.26855784]\n",
      " [650.14027287 306.05217077]\n",
      " [654.07624563 306.95440077]\n",
      " [672.29983199 320.63829875]\n",
      " [660.72572222 342.69460884]\n",
      " [657.41008778 343.10170182]\n",
      " [654.2626835  345.87656913]\n",
      " [652.65895296 347.99931598]\n",
      " [652.35469796 349.97881469]\n",
      " [653.45450018 347.78096323]\n",
      " [652.78652446 349.98394892]\n",
      " [653.66837297 350.23690031]\n",
      " [654.96981385 349.2593914 ]\n",
      " [655.34896241 348.91225411]\n",
      " [654.61180036 351.36584866]\n",
      " [655.57633598 351.64529663]\n",
      " [657.05503267 350.53801548]\n",
      " [657.26896145 349.78534266]\n",
      " [656.57329409 352.1217888 ]\n",
      " [657.4992312  352.3903806 ]\n",
      " [658.87754053 351.36177501]\n",
      " [659.12134311 350.32172133]\n",
      " [658.61241406 352.04715211]\n",
      " [659.32101607 352.25131589]\n",
      " [660.39571988 351.45040311]\n",
      " [666.48921716 331.71093454]\n",
      " [663.23676637 313.83312579]\n",
      " [673.00931558 348.11986624]\n",
      " [650.51501097 386.28099519]\n",
      " [667.29231933 424.05678603]\n",
      " [656.87816077 434.62672507]\n",
      " [648.8777223  433.71204361]\n",
      " [658.94129196 405.25305163]\n",
      " [661.85017848 367.05189661]\n",
      " [669.87839461 345.29849284]\n",
      " [656.0552131  379.08059399]\n",
      " [688.40518066 400.72356146]\n",
      " [676.16376367 409.18727968]\n",
      " [668.37184398 408.6922532 ]\n",
      " [672.29558042 389.94582096]\n",
      " [662.87106314 362.42303003]]\n"
     ]
    }
   ],
   "source": [
    "\n",
    "t=0\n",
    "\n",
    "cam_int = (file_annots[\"cam_int\"][t]).numpy()\n",
    "view_matrix = (file_annots[\"view_matrix\"][t]).numpy().T\n",
    "joints = gt_joints[t]\n",
    "hom_joints = np.hstack((joints, np.ones((joints.shape[0], 1))))\n",
    "cam_joints = (view_matrix@hom_joints.T).T\n",
    "cam_joints = cam_joints / cam_joints[:, -1][:, np.newaxis]\n",
    "cam_joints = cam_joints[:, :3]\n",
    "screen_joints = (cam_int @ cam_joints.T).T\n",
    "screen_joints = screen_joints / screen_joints[:, -1][:, np.newaxis]\n",
    "screen_joints = screen_joints[:, :2]\n",
    "fix_joints = np.vstack(( (np.full((screen_joints.shape[0],), 1280)) - screen_joints[:, 0], screen_joints[:, 1]))\n",
    "print(fix_joints.T)"
   ]
  },
  {
   "cell_type": "code",
   "execution_count": 13,
   "id": "59641ca6",
   "metadata": {},
   "outputs": [
    {
     "name": "stdout",
     "output_type": "stream",
     "text": [
      "Annotated image saved to: ./test.png\n"
     ]
    }
   ],
   "source": [
    "annotate_circles(\"../images/00003/00050_frame.png\", file_annots[\"joints_2d\"][50], \"./test.png\")"
   ]
  },
  {
   "cell_type": "code",
   "execution_count": 8,
   "id": "9fdd35ca-0ddc-437c-86a9-3f252971ffaa",
   "metadata": {},
   "outputs": [],
   "source": [
    "cam_path = eg_file_annot[0][\"cam_eye\"].numpy()\n",
    "pose_points = eg_file_annot[0][\"joints_3d\"].numpy()[20]\n",
    "view_mat = eg_file_annot[0][\"view_matrix\"].numpy()[20]"
   ]
  },
  {
   "cell_type": "code",
   "execution_count": 9,
   "id": "6ed031fc-8fac-4dfa-b817-0fabed40f38a",
   "metadata": {},
   "outputs": [],
   "source": []
  },
  {
   "cell_type": "code",
   "execution_count": 10,
   "id": "68ff3d6f-c809-434e-8260-04afed3097ab",
   "metadata": {},
   "outputs": [],
   "source": [
    "pose_points_transformed = apply_view_matrix_to_points(view_mat, pose_points)"
   ]
  },
  {
   "cell_type": "code",
   "execution_count": 11,
   "id": "732eaa65-3810-4b63-99b6-915f6648a3f4",
   "metadata": {},
   "outputs": [],
   "source": [
    "import matplotlib.pyplot as plt\n",
    "from mpl_toolkits.mplot3d import Axes3D\n",
    "import numpy as np\n",
    "\n",
    "def plot_3d_points(cam_points):\n",
    "    \"\"\"\n",
    "    Plots an array of points in 3D space.\n",
    "\n",
    "    :param points: NumPy array or list of points with shape (n, 3), where each point is [x, y, z].\n",
    "    \"\"\"\n",
    "    cam_x, cam_y, cam_z = cam_points[:, 0], cam_points[:, 1], cam_points[:, 2]  # Extract x, y, z coordinates\n",
    "\n",
    "    # Create a 3D scatter plot\n",
    "    fig = plt.figure()\n",
    "    ax = fig.add_subplot(111, projection='3d')\n",
    "    ax.scatter(cam_x, cam_y, cam_z, c='red', marker='o', s=50)  # Red circles as markers\n",
    "\n",
    "    # Set labels for the axes\n",
    "    ax.set_xlabel('X')\n",
    "    ax.set_ylabel('Y')\n",
    "    ax.set_zlabel('Z')\n",
    "\n",
    "    # Show the plot\n",
    "    plt.show()"
   ]
  },
  {
   "cell_type": "code",
   "execution_count": null,
   "id": "f2f7ac1c",
   "metadata": {},
   "outputs": [],
   "source": []
  },
  {
   "cell_type": "code",
   "execution_count": 13,
   "id": "430b30a5-9f0c-4bc0-a527-9e930081a4c1",
   "metadata": {
    "scrolled": true
   },
   "outputs": [
    {
     "name": "stdout",
     "output_type": "stream",
     "text": [
      "Annotated image saved to: test_00000.png\n",
      "Annotated image saved to: test_00001.png\n",
      "Annotated image saved to: test_00002.png\n",
      "Annotated image saved to: test_00003.png\n"
     ]
    },
    {
     "ename": "KeyboardInterrupt",
     "evalue": "",
     "output_type": "error",
     "traceback": [
      "\u001b[0;31m---------------------------------------------------------------------------\u001b[0m",
      "\u001b[0;31mAttributeError\u001b[0m                            Traceback (most recent call last)",
      "File \u001b[0;32m~/dev/SymPoseLift/Playground/venv/lib/python3.13/site-packages/PIL/ImageFile.py:554\u001b[0m, in \u001b[0;36m_save\u001b[0;34m(im, fp, tile, bufsize)\u001b[0m\n\u001b[1;32m    553\u001b[0m \u001b[38;5;28;01mtry\u001b[39;00m:\n\u001b[0;32m--> 554\u001b[0m     fh \u001b[38;5;241m=\u001b[39m \u001b[43mfp\u001b[49m\u001b[38;5;241;43m.\u001b[39;49m\u001b[43mfileno\u001b[49m()\n\u001b[1;32m    555\u001b[0m     fp\u001b[38;5;241m.\u001b[39mflush()\n",
      "\u001b[0;31mAttributeError\u001b[0m: '_idat' object has no attribute 'fileno'",
      "\nDuring handling of the above exception, another exception occurred:\n",
      "\u001b[0;31mKeyboardInterrupt\u001b[0m                         Traceback (most recent call last)",
      "Cell \u001b[0;32mIn[13], line 2\u001b[0m\n\u001b[1;32m      1\u001b[0m \u001b[38;5;28;01mfor\u001b[39;00m i \u001b[38;5;129;01min\u001b[39;00m \u001b[38;5;28mrange\u001b[39m(\u001b[38;5;28mlen\u001b[39m(joints)):\n\u001b[0;32m----> 2\u001b[0m     \u001b[43mannotate_circles\u001b[49m\u001b[43m(\u001b[49m\u001b[38;5;124;43mf\u001b[39;49m\u001b[38;5;124;43m\"\u001b[39;49m\u001b[38;5;124;43m../images/00005/\u001b[39;49m\u001b[38;5;124;43m\"\u001b[39;49m\u001b[43m \u001b[49m\u001b[38;5;241;43m+\u001b[39;49m\u001b[43m \u001b[49m\u001b[38;5;28;43mstr\u001b[39;49m\u001b[43m(\u001b[49m\u001b[43mi\u001b[49m\u001b[43m)\u001b[49m\u001b[38;5;241;43m.\u001b[39;49m\u001b[43mzfill\u001b[49m\u001b[43m(\u001b[49m\u001b[38;5;241;43m5\u001b[39;49m\u001b[43m)\u001b[49m\u001b[43m \u001b[49m\u001b[38;5;241;43m+\u001b[39;49m\u001b[43m \u001b[49m\u001b[38;5;124;43m\"\u001b[39;49m\u001b[38;5;124;43m_frame.png\u001b[39;49m\u001b[38;5;124;43m\"\u001b[39;49m\u001b[43m,\u001b[49m\u001b[43m \u001b[49m\u001b[43mjoints\u001b[49m\u001b[43m[\u001b[49m\u001b[43mi\u001b[49m\u001b[43m]\u001b[49m\u001b[43m,\u001b[49m\u001b[43m \u001b[49m\u001b[38;5;124;43mf\u001b[39;49m\u001b[38;5;124;43m\"\u001b[39;49m\u001b[38;5;124;43mtest_\u001b[39;49m\u001b[38;5;132;43;01m{\u001b[39;49;00m\u001b[38;5;28;43mstr\u001b[39;49m\u001b[43m(\u001b[49m\u001b[43mi\u001b[49m\u001b[43m)\u001b[49m\u001b[38;5;241;43m.\u001b[39;49m\u001b[43mzfill\u001b[49m\u001b[43m(\u001b[49m\u001b[38;5;241;43m5\u001b[39;49m\u001b[43m)\u001b[49m\u001b[38;5;132;43;01m}\u001b[39;49;00m\u001b[38;5;124;43m.png\u001b[39;49m\u001b[38;5;124;43m\"\u001b[39;49m\u001b[43m)\u001b[49m\n",
      "Cell \u001b[0;32mIn[5], line 27\u001b[0m, in \u001b[0;36mannotate_circles\u001b[0;34m(image_path, points, output_path, radius, color, thickness)\u001b[0m\n\u001b[1;32m     24\u001b[0m         draw\u001b[38;5;241m.\u001b[39mellipse([top_left[\u001b[38;5;241m0\u001b[39m] \u001b[38;5;241m-\u001b[39m i, top_left[\u001b[38;5;241m1\u001b[39m] \u001b[38;5;241m-\u001b[39m i, bottom_right[\u001b[38;5;241m0\u001b[39m] \u001b[38;5;241m+\u001b[39m i, bottom_right[\u001b[38;5;241m1\u001b[39m] \u001b[38;5;241m+\u001b[39m i], outline\u001b[38;5;241m=\u001b[39mcolor)\n\u001b[1;32m     26\u001b[0m \u001b[38;5;66;03m# Save the annotated image\u001b[39;00m\n\u001b[0;32m---> 27\u001b[0m \u001b[43mimage\u001b[49m\u001b[38;5;241;43m.\u001b[39;49m\u001b[43msave\u001b[49m\u001b[43m(\u001b[49m\u001b[43moutput_path\u001b[49m\u001b[43m)\u001b[49m\n\u001b[1;32m     28\u001b[0m \u001b[38;5;28mprint\u001b[39m(\u001b[38;5;124mf\u001b[39m\u001b[38;5;124m\"\u001b[39m\u001b[38;5;124mAnnotated image saved to: \u001b[39m\u001b[38;5;132;01m{\u001b[39;00moutput_path\u001b[38;5;132;01m}\u001b[39;00m\u001b[38;5;124m\"\u001b[39m)\n",
      "File \u001b[0;32m~/dev/SymPoseLift/Playground/venv/lib/python3.13/site-packages/PIL/Image.py:2605\u001b[0m, in \u001b[0;36mImage.save\u001b[0;34m(self, fp, format, **params)\u001b[0m\n\u001b[1;32m   2602\u001b[0m     fp \u001b[38;5;241m=\u001b[39m cast(IO[\u001b[38;5;28mbytes\u001b[39m], fp)\n\u001b[1;32m   2604\u001b[0m \u001b[38;5;28;01mtry\u001b[39;00m:\n\u001b[0;32m-> 2605\u001b[0m     \u001b[43msave_handler\u001b[49m\u001b[43m(\u001b[49m\u001b[38;5;28;43mself\u001b[39;49m\u001b[43m,\u001b[49m\u001b[43m \u001b[49m\u001b[43mfp\u001b[49m\u001b[43m,\u001b[49m\u001b[43m \u001b[49m\u001b[43mfilename\u001b[49m\u001b[43m)\u001b[49m\n\u001b[1;32m   2606\u001b[0m \u001b[38;5;28;01mexcept\u001b[39;00m \u001b[38;5;167;01mException\u001b[39;00m:\n\u001b[1;32m   2607\u001b[0m     \u001b[38;5;28;01mif\u001b[39;00m open_fp:\n",
      "File \u001b[0;32m~/dev/SymPoseLift/Playground/venv/lib/python3.13/site-packages/PIL/PngImagePlugin.py:1488\u001b[0m, in \u001b[0;36m_save\u001b[0;34m(im, fp, filename, chunk, save_all)\u001b[0m\n\u001b[1;32m   1484\u001b[0m     single_im \u001b[38;5;241m=\u001b[39m _write_multiple_frames(\n\u001b[1;32m   1485\u001b[0m         im, fp, chunk, mode, rawmode, default_image, append_images\n\u001b[1;32m   1486\u001b[0m     )\n\u001b[1;32m   1487\u001b[0m \u001b[38;5;28;01mif\u001b[39;00m single_im:\n\u001b[0;32m-> 1488\u001b[0m     \u001b[43mImageFile\u001b[49m\u001b[38;5;241;43m.\u001b[39;49m\u001b[43m_save\u001b[49m\u001b[43m(\u001b[49m\n\u001b[1;32m   1489\u001b[0m \u001b[43m        \u001b[49m\u001b[43msingle_im\u001b[49m\u001b[43m,\u001b[49m\n\u001b[1;32m   1490\u001b[0m \u001b[43m        \u001b[49m\u001b[43mcast\u001b[49m\u001b[43m(\u001b[49m\u001b[43mIO\u001b[49m\u001b[43m[\u001b[49m\u001b[38;5;28;43mbytes\u001b[39;49m\u001b[43m]\u001b[49m\u001b[43m,\u001b[49m\u001b[43m \u001b[49m\u001b[43m_idat\u001b[49m\u001b[43m(\u001b[49m\u001b[43mfp\u001b[49m\u001b[43m,\u001b[49m\u001b[43m \u001b[49m\u001b[43mchunk\u001b[49m\u001b[43m)\u001b[49m\u001b[43m)\u001b[49m\u001b[43m,\u001b[49m\n\u001b[1;32m   1491\u001b[0m \u001b[43m        \u001b[49m\u001b[43m[\u001b[49m\u001b[43mImageFile\u001b[49m\u001b[38;5;241;43m.\u001b[39;49m\u001b[43m_Tile\u001b[49m\u001b[43m(\u001b[49m\u001b[38;5;124;43m\"\u001b[39;49m\u001b[38;5;124;43mzip\u001b[39;49m\u001b[38;5;124;43m\"\u001b[39;49m\u001b[43m,\u001b[49m\u001b[43m \u001b[49m\u001b[43m(\u001b[49m\u001b[38;5;241;43m0\u001b[39;49m\u001b[43m,\u001b[49m\u001b[43m \u001b[49m\u001b[38;5;241;43m0\u001b[39;49m\u001b[43m)\u001b[49m\u001b[43m \u001b[49m\u001b[38;5;241;43m+\u001b[39;49m\u001b[43m \u001b[49m\u001b[43msingle_im\u001b[49m\u001b[38;5;241;43m.\u001b[39;49m\u001b[43msize\u001b[49m\u001b[43m,\u001b[49m\u001b[43m \u001b[49m\u001b[38;5;241;43m0\u001b[39;49m\u001b[43m,\u001b[49m\u001b[43m \u001b[49m\u001b[43mrawmode\u001b[49m\u001b[43m)\u001b[49m\u001b[43m]\u001b[49m\u001b[43m,\u001b[49m\n\u001b[1;32m   1492\u001b[0m \u001b[43m    \u001b[49m\u001b[43m)\u001b[49m\n\u001b[1;32m   1494\u001b[0m \u001b[38;5;28;01mif\u001b[39;00m info:\n\u001b[1;32m   1495\u001b[0m     \u001b[38;5;28;01mfor\u001b[39;00m info_chunk \u001b[38;5;129;01min\u001b[39;00m info\u001b[38;5;241m.\u001b[39mchunks:\n",
      "File \u001b[0;32m~/dev/SymPoseLift/Playground/venv/lib/python3.13/site-packages/PIL/ImageFile.py:558\u001b[0m, in \u001b[0;36m_save\u001b[0;34m(im, fp, tile, bufsize)\u001b[0m\n\u001b[1;32m    556\u001b[0m     _encode_tile(im, fp, tile, bufsize, fh)\n\u001b[1;32m    557\u001b[0m \u001b[38;5;28;01mexcept\u001b[39;00m (\u001b[38;5;167;01mAttributeError\u001b[39;00m, io\u001b[38;5;241m.\u001b[39mUnsupportedOperation) \u001b[38;5;28;01mas\u001b[39;00m exc:\n\u001b[0;32m--> 558\u001b[0m     \u001b[43m_encode_tile\u001b[49m\u001b[43m(\u001b[49m\u001b[43mim\u001b[49m\u001b[43m,\u001b[49m\u001b[43m \u001b[49m\u001b[43mfp\u001b[49m\u001b[43m,\u001b[49m\u001b[43m \u001b[49m\u001b[43mtile\u001b[49m\u001b[43m,\u001b[49m\u001b[43m \u001b[49m\u001b[43mbufsize\u001b[49m\u001b[43m,\u001b[49m\u001b[43m \u001b[49m\u001b[38;5;28;43;01mNone\u001b[39;49;00m\u001b[43m,\u001b[49m\u001b[43m \u001b[49m\u001b[43mexc\u001b[49m\u001b[43m)\u001b[49m\n\u001b[1;32m    559\u001b[0m \u001b[38;5;28;01mif\u001b[39;00m \u001b[38;5;28mhasattr\u001b[39m(fp, \u001b[38;5;124m\"\u001b[39m\u001b[38;5;124mflush\u001b[39m\u001b[38;5;124m\"\u001b[39m):\n\u001b[1;32m    560\u001b[0m     fp\u001b[38;5;241m.\u001b[39mflush()\n",
      "File \u001b[0;32m~/dev/SymPoseLift/Playground/venv/lib/python3.13/site-packages/PIL/ImageFile.py:584\u001b[0m, in \u001b[0;36m_encode_tile\u001b[0;34m(im, fp, tile, bufsize, fh, exc)\u001b[0m\n\u001b[1;32m    581\u001b[0m \u001b[38;5;28;01mif\u001b[39;00m exc:\n\u001b[1;32m    582\u001b[0m     \u001b[38;5;66;03m# compress to Python file-compatible object\u001b[39;00m\n\u001b[1;32m    583\u001b[0m     \u001b[38;5;28;01mwhile\u001b[39;00m \u001b[38;5;28;01mTrue\u001b[39;00m:\n\u001b[0;32m--> 584\u001b[0m         errcode, data \u001b[38;5;241m=\u001b[39m \u001b[43mencoder\u001b[49m\u001b[38;5;241;43m.\u001b[39;49m\u001b[43mencode\u001b[49m\u001b[43m(\u001b[49m\u001b[43mbufsize\u001b[49m\u001b[43m)\u001b[49m[\u001b[38;5;241m1\u001b[39m:]\n\u001b[1;32m    585\u001b[0m         fp\u001b[38;5;241m.\u001b[39mwrite(data)\n\u001b[1;32m    586\u001b[0m         \u001b[38;5;28;01mif\u001b[39;00m errcode:\n",
      "\u001b[0;31mKeyboardInterrupt\u001b[0m: "
     ]
    }
   ],
   "source": [
    "# for i in range(len(joints)):\n",
    "#    annotate_circles(f\"../images/00005/\" + str(i).zfill(5) + \"_frame.png\", joints[i], f\"test_{str(i).zfill(5)}.png\")\n",
    "    "
   ]
  },
  {
   "cell_type": "code",
   "execution_count": null,
   "id": "74efaaf8-7e05-4a83-9ea9-145d56dcc37e",
   "metadata": {},
   "outputs": [],
   "source": []
  }
 ],
 "metadata": {
  "kernelspec": {
   "display_name": "venv",
   "language": "python",
   "name": "python3"
  },
  "language_info": {
   "codemirror_mode": {
    "name": "ipython",
    "version": 3
   },
   "file_extension": ".py",
   "mimetype": "text/x-python",
   "name": "python",
   "nbconvert_exporter": "python",
   "pygments_lexer": "ipython3",
   "version": "3.13.1"
  }
 },
 "nbformat": 4,
 "nbformat_minor": 5
}
